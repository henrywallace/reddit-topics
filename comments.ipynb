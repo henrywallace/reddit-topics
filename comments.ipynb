{
 "cells": [
  {
   "cell_type": "code",
   "execution_count": 64,
   "metadata": {
    "collapsed": false
   },
   "outputs": [],
   "source": [
    "import praw\n",
    "import csv\n",
    "from pyprind import ProgPercent"
   ]
  },
  {
   "cell_type": "code",
   "execution_count": 2,
   "metadata": {
    "collapsed": true
   },
   "outputs": [],
   "source": [
    "class CommentNode(object):\n",
    "    def __init__(self, comment):\n",
    "        self.comment = comment\n",
    "\n",
    "    def __repr__(self):\n",
    "        return self.id\n",
    "\n",
    "    def __hash__(self):\n",
    "        return hash(self.id)"
   ]
  },
  {
   "cell_type": "code",
   "execution_count": 84,
   "metadata": {
    "collapsed": true
   },
   "outputs": [],
   "source": [
    "class CommentGatherer(object):\n",
    "    def __init__(self):\n",
    "        with open('login.csv') as f:\n",
    "            reader = csv.reader(f, delimiter=':')\n",
    "            login = {k.upper(): v.strip() for k, v in reader}\n",
    "        self.r = praw.Reddit(user_agent='LDA comment collector by /u/{}'\\\n",
    "            .format(login['USERNAME']))\n",
    "        self.r.login(login['USERNAME'], login['PASSWORD'])\n",
    "        \n",
    "    def gather_replies(self, comment, depth):\n",
    "        replies = self.filter_comments(comment.replies)\n",
    "        self.comments.extend(replies)\n",
    "        self.transitions.extend((comment, r) for r in replies)\n",
    "        if depth > 1:\n",
    "            for r in replies:\n",
    "                self.gather_replies(r, depth - 1)\n",
    "    \n",
    "    def filter_comments(self, comments):\n",
    "        if len(comments) > 0:\n",
    "            return comments[:-1]\n",
    "        else:\n",
    "            return comments\n",
    "        \n",
    "    def traverse(self, sub_name, nroots=100, max_depth=float('inf')):\n",
    "        self.comments = []\n",
    "        self.transitions = []\n",
    "        stream = self.r.get_subreddit(sub_name).get_hot(limit=nroots)\n",
    "        pbar = ProgPercent(nroots)\n",
    "        for submission in stream:\n",
    "            for comment in self.filter_comments(submission.comments):\n",
    "                self.comments.append(comment)\n",
    "                self.gather_replies(comment, max_depth)\n",
    "                pbar.update()\n",
    "        self.id2index = {id: index for index, id in enumerate(c.id for c in self.comments)}"
   ]
  },
  {
   "cell_type": "code",
   "execution_count": 85,
   "metadata": {
    "collapsed": false
   },
   "outputs": [
    {
     "name": "stderr",
     "output_type": "stream",
     "text": [
      "[100 %] elapsed[sec]: 5.396 | ETA[sec]: 0.000 \n",
      "Total time elapsed: 5.396 sec\n",
      "/usr/local/Cellar/python3/3.4.3/Frameworks/Python.framework/Versions/3.4/lib/python3.4/urllib/parse.py:105: ResourceWarning: unclosed <socket.socket fd=58, family=AddressFamily.AF_INET, type=SocketKind.SOCK_STREAM, proto=6, laddr=('192.168.1.64', 57276), raddr=('198.41.208.143', 80)>\n",
      "  for arg in args[1:]:\n",
      "/usr/local/Cellar/python3/3.4.3/Frameworks/Python.framework/Versions/3.4/lib/python3.4/urllib/parse.py:105: ResourceWarning: unclosed <ssl.SSLSocket fd=57, family=AddressFamily.AF_INET, type=SocketKind.SOCK_STREAM, proto=6, laddr=('192.168.1.64', 57272), raddr=('198.41.208.140', 443)>\n",
      "  for arg in args[1:]:\n",
      "/usr/local/Cellar/python3/3.4.3/Frameworks/Python.framework/Versions/3.4/lib/python3.4/urllib/parse.py:105: ResourceWarning: unclosed <socket.socket fd=60, family=AddressFamily.AF_INET, type=SocketKind.SOCK_STREAM, proto=6, laddr=('192.168.1.64', 57307), raddr=('198.41.208.138', 80)>\n",
      "  for arg in args[1:]:\n",
      "/usr/local/Cellar/python3/3.4.3/Frameworks/Python.framework/Versions/3.4/lib/python3.4/urllib/parse.py:105: ResourceWarning: unclosed <ssl.SSLSocket fd=59, family=AddressFamily.AF_INET, type=SocketKind.SOCK_STREAM, proto=6, laddr=('192.168.1.64', 57306), raddr=('198.41.208.139', 443)>\n",
      "  for arg in args[1:]:\n",
      "/usr/local/Cellar/python3/3.4.3/Frameworks/Python.framework/Versions/3.4/lib/python3.4/urllib/parse.py:105: ResourceWarning: unclosed <socket.socket fd=62, family=AddressFamily.AF_INET, type=SocketKind.SOCK_STREAM, proto=6, laddr=('192.168.1.64', 57314), raddr=('198.41.209.142', 80)>\n",
      "  for arg in args[1:]:\n",
      "/usr/local/Cellar/python3/3.4.3/Frameworks/Python.framework/Versions/3.4/lib/python3.4/urllib/parse.py:105: ResourceWarning: unclosed <ssl.SSLSocket fd=61, family=AddressFamily.AF_INET, type=SocketKind.SOCK_STREAM, proto=6, laddr=('192.168.1.64', 57313), raddr=('198.41.209.140', 443)>\n",
      "  for arg in args[1:]:\n"
     ]
    }
   ],
   "source": [
    "cg = CommentGatherer()\n",
    "cg.traverse('all', nroots=5)"
   ]
  },
  {
   "cell_type": "code",
   "execution_count": 86,
   "metadata": {
    "collapsed": false
   },
   "outputs": [
    {
     "data": {
      "text/plain": [
       "409"
      ]
     },
     "execution_count": 86,
     "metadata": {},
     "output_type": "execute_result"
    }
   ],
   "source": [
    "len(cg.transitions)"
   ]
  },
  {
   "cell_type": "code",
   "execution_count": 45,
   "metadata": {
    "collapsed": false
   },
   "outputs": [],
   "source": [
    "import numpy as np\n",
    "import lda_gibbs"
   ]
  },
  {
   "cell_type": "code",
   "execution_count": 133,
   "metadata": {
    "collapsed": false
   },
   "outputs": [
    {
     "data": {
      "text/plain": [
       "array([[ 5,  6,  7,  8],\n",
       "       [10, 12, 14, 16],\n",
       "       [15, 18, 21, 24],\n",
       "       [20, 24, 28, 32]])"
      ]
     },
     "execution_count": 133,
     "metadata": {},
     "output_type": "execute_result"
    }
   ],
   "source": [
    "x = np.array([1, 2, 3, 4])\n",
    "y = np.array([5, 6, 7, 8])\n",
    "M = x[np.newaxis].T*y; M"
   ]
  },
  {
   "cell_type": "code",
   "execution_count": 153,
   "metadata": {
    "collapsed": false
   },
   "outputs": [
    {
     "data": {
      "text/plain": [
       "array([[ 0.1       ,  0.12      ,  0.14      ,  0.16      ],\n",
       "       [ 0.16666667,  0.2       ,  0.23333333,  0.26666667],\n",
       "       [ 0.21428571,  0.25714286,  0.3       ,  0.34285714],\n",
       "       [ 0.25      ,  0.3       ,  0.35      ,  0.4       ]])"
      ]
     },
     "execution_count": 153,
     "metadata": {},
     "output_type": "execute_result"
    }
   ],
   "source": [
    "(M.T/M.sum(axis=0)).T"
   ]
  },
  {
   "cell_type": "code",
   "execution_count": 47,
   "metadata": {
    "collapsed": true
   },
   "outputs": [],
   "source": [
    "def tokenize(comment):\n",
    "    return comment.lower().strip().split()"
   ]
  },
  {
   "cell_type": "code",
   "execution_count": 90,
   "metadata": {
    "collapsed": false
   },
   "outputs": [],
   "source": [
    "model = LDA([tokenize(c.body) for c in cg.comments])\n",
    "theta, beta = model.train(ntopics=10, niter=200, seed=42)"
   ]
  },
  {
   "cell_type": "code",
   "execution_count": 91,
   "metadata": {
    "collapsed": false
   },
   "outputs": [
    {
     "data": {
      "text/plain": [
       "(675, 10)"
      ]
     },
     "execution_count": 91,
     "metadata": {},
     "output_type": "execute_result"
    }
   ],
   "source": [
    "theta.shape"
   ]
  },
  {
   "cell_type": "code",
   "execution_count": 171,
   "metadata": {
    "collapsed": true
   },
   "outputs": [],
   "source": [
    "def transition_matrix(theta, id2index, transitions):\n",
    "    ntopics = theta.shape[1]\n",
    "    M = np.zeros((ntopics, ntopics))\n",
    "    for x, y in transitions:\n",
    "        pi_x = theta[id2index[x.id], :]\n",
    "        pi_y = theta[id2index[y.id], :]\n",
    "        M += pi_x[np.newaxis].T * pi_y\n",
    "    for i in range(ntopics):\n",
    "        M[i, :] /= M[i, :].sum()\n",
    "    return M"
   ]
  },
  {
   "cell_type": "code",
   "execution_count": 176,
   "metadata": {
    "collapsed": false
   },
   "outputs": [],
   "source": [
    "M = transition_matrix(theta, cg.id2index, cg.transitions)"
   ]
  },
  {
   "cell_type": "code",
   "execution_count": 177,
   "metadata": {
    "collapsed": false
   },
   "outputs": [
    {
     "data": {
      "text/plain": [
       "array([[ 0.15488975,  0.07956753,  0.10233533,  0.08027625,  0.10434367,\n",
       "         0.07914406,  0.11590143,  0.09840701,  0.08636246,  0.09877251],\n",
       "       [ 0.1072669 ,  0.11611744,  0.07841264,  0.05971687,  0.12470298,\n",
       "         0.11042655,  0.11837047,  0.09982086,  0.11650131,  0.06866399],\n",
       "       [ 0.14964303,  0.08756545,  0.07721038,  0.08939235,  0.10363121,\n",
       "         0.09041514,  0.17440531,  0.08521565,  0.06642272,  0.07609874],\n",
       "       [ 0.12798721,  0.08016937,  0.07921507,  0.11546337,  0.11301409,\n",
       "         0.0819874 ,  0.07943038,  0.12176846,  0.10521848,  0.09574617],\n",
       "       [ 0.12714166,  0.1081655 ,  0.09234769,  0.0729589 ,  0.14109567,\n",
       "         0.10125124,  0.08929223,  0.09239422,  0.08047531,  0.09487758],\n",
       "       [ 0.14275692,  0.08715716,  0.05984145,  0.07617228,  0.07625432,\n",
       "         0.16992231,  0.0872106 ,  0.11396594,  0.12601106,  0.06070797],\n",
       "       [ 0.12211422,  0.08951637,  0.09147158,  0.07141356,  0.09911231,\n",
       "         0.11095336,  0.17075788,  0.08957727,  0.07293374,  0.0821497 ],\n",
       "       [ 0.13775386,  0.08961855,  0.07588087,  0.06545293,  0.09892894,\n",
       "         0.11094212,  0.104612  ,  0.15136334,  0.09654281,  0.06890459],\n",
       "       [ 0.13493793,  0.08489058,  0.07653939,  0.09504308,  0.118127  ,\n",
       "         0.09531729,  0.09924504,  0.08457125,  0.14140892,  0.06991952],\n",
       "       [ 0.09938532,  0.08710906,  0.08881349,  0.09271142,  0.10752189,\n",
       "         0.09260447,  0.12282843,  0.08432257,  0.10373112,  0.12097224]])"
      ]
     },
     "execution_count": 177,
     "metadata": {},
     "output_type": "execute_result"
    }
   ],
   "source": [
    "M"
   ]
  },
  {
   "cell_type": "code",
   "execution_count": null,
   "metadata": {
    "collapsed": true
   },
   "outputs": [],
   "source": []
  }
 ],
 "metadata": {
  "kernelspec": {
   "display_name": "Python 3",
   "language": "python",
   "name": "python3"
  },
  "language_info": {
   "codemirror_mode": {
    "name": "ipython",
    "version": 3
   },
   "file_extension": ".py",
   "mimetype": "text/x-python",
   "name": "python",
   "nbconvert_exporter": "python",
   "pygments_lexer": "ipython3",
   "version": "3.4.3"
  }
 },
 "nbformat": 4,
 "nbformat_minor": 0
}
